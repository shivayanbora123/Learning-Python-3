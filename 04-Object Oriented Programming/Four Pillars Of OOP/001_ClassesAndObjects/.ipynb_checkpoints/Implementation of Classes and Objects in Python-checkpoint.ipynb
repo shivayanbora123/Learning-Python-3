{
 "cells": [
  {
   "cell_type": "markdown",
   "metadata": {},
   "source": [
    "## CLASSES AND OBJECTS\n",
    "\n",
    "    1. What is a class ?\n",
    "     \n",
    "     A class is logical grouping of attributes(variables) and methods(functions)\n",
    " \n",
    "     #### Syntax:\n",
    "     class ClassName:\n",
    "         #class body\n",
    "     \n",
    "     #### Example:\n",
    "     class Employee:\n",
    "         #class body\n",
    "\n",
    "    2. What is an object ?\n",
    "     \n",
    "     Object is an instance of a class that has access to all the attributes and methods of that class\n",
    " \n",
    "     #### Syntax:\n",
    "     objectName = ClassName()\n",
    "     \n",
    "     #### Example:\n",
    "     employee = Employee()\n",
    " \n",
    "     Note: The object employee now has access to all the attributes and methods of the class Employee. You will be learning more about attributes and methods in the next section.\n",
    "  \n",
    "    3. What is object instantiation ?\n",
    "     \n",
    "     The process of creation of an object of a class is called instantiation"
   ]
  },
  {
   "cell_type": "code",
   "execution_count": 1,
   "metadata": {},
   "outputs": [],
   "source": [
    "class Employee:\n",
    "    name = \"Ben\"\n",
    "    designation = \"sales Executive\"\n",
    "    salesMadeThisWeek = 6\n",
    "\n",
    "    def hasAchievedTarget(self):\n",
    "        if self.salesMadeThisWeek >= 5:\n",
    "            print(\"Target has been achieved\")\n",
    "        else:\n",
    "            print(\"Target has not been achieved\")"
   ]
  },
  {
   "cell_type": "code",
   "execution_count": 2,
   "metadata": {},
   "outputs": [],
   "source": [
    "employeeOne = Employee()"
   ]
  },
  {
   "cell_type": "code",
   "execution_count": 3,
   "metadata": {},
   "outputs": [
    {
     "data": {
      "text/plain": [
       "'Ben'"
      ]
     },
     "execution_count": 3,
     "metadata": {},
     "output_type": "execute_result"
    }
   ],
   "source": [
    "employeeOne.name"
   ]
  },
  {
   "cell_type": "code",
   "execution_count": 4,
   "metadata": {},
   "outputs": [
    {
     "name": "stdout",
     "output_type": "stream",
     "text": [
      "Target has been achieved\n"
     ]
    }
   ],
   "source": [
    "employeeOne.hasAchievedTarget()"
   ]
  },
  {
   "cell_type": "code",
   "execution_count": 5,
   "metadata": {},
   "outputs": [],
   "source": [
    "employeeTwo = Employee()"
   ]
  },
  {
   "cell_type": "code",
   "execution_count": 6,
   "metadata": {},
   "outputs": [
    {
     "data": {
      "text/plain": [
       "'Ben'"
      ]
     },
     "execution_count": 6,
     "metadata": {},
     "output_type": "execute_result"
    }
   ],
   "source": [
    "employeeTwo.name"
   ]
  },
  {
   "cell_type": "markdown",
   "metadata": {},
   "source": [
    "As seen, both the employees have the same name. So this is not a good way of initializing an object."
   ]
  }
 ],
 "metadata": {
  "kernelspec": {
   "display_name": "Python 3",
   "language": "python",
   "name": "python3"
  },
  "language_info": {
   "codemirror_mode": {
    "name": "ipython",
    "version": 3
   },
   "file_extension": ".py",
   "mimetype": "text/x-python",
   "name": "python",
   "nbconvert_exporter": "python",
   "pygments_lexer": "ipython3",
   "version": "3.6.4"
  }
 },
 "nbformat": 4,
 "nbformat_minor": 2
}
