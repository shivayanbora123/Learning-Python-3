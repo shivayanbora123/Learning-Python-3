{
 "cells": [
  {
   "cell_type": "markdown",
   "metadata": {},
   "source": [
    "#### ATTRIBUTES AND METHODS\n",
    "\n",
    "    1. What are data members ?\n",
    "    Data members are attributes declared within a class. They are properties that further define a class. There are two types of attributes: class attributes and instance attributes.\n",
    "\n",
    "    2. What is a class attribute ?\n",
    "     An attribute that is common across all instances of a class is called a class attribute. Class attributes are accessed by using class name as the prefix.\n",
    "     \n",
    "     Syntax:\n",
    "     class className:\n",
    "     classAttribute = value\n",
    "     \n",
    "     Example:\n",
    "     class Employee:     \n",
    "         Note: This attribute is common across all instances of this class\n",
    "         numberOfEmployees = 0\n",
    "     \n",
    "     employeeOne = Employee()\n",
    "     employeeTwo = Employee()\n",
    "     Employee.numberOfEmployees += 1\n",
    "     print(employeeOne.numberOfEmployees)\n",
    "     print(employeeOne.numberOfEmployees)\n",
    "     #Output => 1, 1\n",
    "     \n",
    "     Since numberOfEmployees was created as a class attribute, we incremented it to 1 by making use of its class name. This value has been reflected across objects employeeOne and employeeTwo.\n",
    "\n",
    "    3. What is an instance attribute ?\n",
    "     An attribute that is specific to each instance of a class is called an instance attribute. Instance attributes are accessed within an instance method by making use of the self object.\n",
    "     \n",
    "     Syntax:\n",
    "     class className:\n",
    "         def methodName(self):\n",
    "             self.instanceAttribute = value\n",
    "     \n",
    "     Example:\n",
    "     class Employee:\n",
    "         def employeeDetails(self, name):\n",
    "     \n",
    "     Note: name is the instance attribute self.name = name\n",
    "\n",
    "    4. What is the self parameter ?\n",
    "     Every instance method accepts has a default parameter that is being accepted. By convention, this parameter is named self. The self parameter is used to refer to the attributes of that instance of the class.\n",
    "     \n",
    "     Example:\n",
    "     class Employee:\n",
    "         def setName(self, name):\n",
    "             self.name = name\n",
    "     \n",
    "     employee = Employee()\n",
    "     employee.setName('John')\n",
    "     \n",
    "     Note: The above statement is inferred as Employee.setName(employee, 'John') where the object employee is taken as the self argument.\n",
    "     # In the init method when we say self.name, Python actually takes it as employee.name, which is being stored with the value John.\n",
    "    \n",
    "    5. What are methods ?\n",
    "     A function within a class that performs a specific action is called a method belonging to that class. Methods are of two types: static method and instance method\n",
    "    \n",
    "    6. What is an instance method ?\n",
    "     A method which can access the instance attributes of a class by making use of self object is called an instance method\n",
    "     \n",
    "     Syntax:\n",
    "     def methodName(self):\n",
    "     # method body\n",
    "     \n",
    "     Example:\n",
    "     class Employee:\n",
    "         # employeeDetails() is the instance method\n",
    "         def employeeDetails(self, name):\n",
    "             self.name = name\n",
    "\n",
    "    7. What is a static method ?\n",
    "     A method that does def updateNumberOfEmployees():\n",
    "     \n",
    "     Employee.numberOfEmployees += 1\n",
    "     employeeOne = Employee()\n",
    "     employeeTwo = Employee()\n",
    "     employeeOne.updateNumberOfEmployees()\n",
    "     employeeTwo.updateNumberOfEmployees()\n",
    "     print(Employee.numberOfEmployees)\n",
    "     \n",
    "     Note: We have used a static method that updates the class attribute of the class Employee.\n",
    "    \n",
    "    8. What are the ways to access the attributes and methods of a class ?\n",
    "     Attributes and methods of a class can be accessed by creating an object and accessing the attributes and objects using class name or object name depending upon the type of attribute followed by the dot operator (.) and the attribute name or method name.\n",
    "     \n",
    "     Example:\n",
    "     class Employee:\n",
    "         numberOfEmployees = 0\n",
    "         def printNumberOfEmployees(self):\n",
    "             print(Employee.numberOfEmployees)\n",
    "             employee = Employee()\n",
    "     \n",
    "     # Modify class attribute using dot operator\n",
    "     Employee.numberOfEmployees += 1\n",
    "     # Call the instance method using dot operator\n",
    "     employee.printNumberOfEmployees()\n",
    "\n",
    "    9. What is an init method ?\n",
    "     An init method is the constructor of a class that can be used to initialize data members of that class. It is the first method that is being called on creation of an object.\n",
    "     \n",
    "     Syntax:\n",
    "     def __init__(self):\n",
    "     # Initialize the data members of the class\n",
    "     \n",
    "     Example:\n",
    "     class Employee:\n",
    "         def __init__(self):\n",
    "             print(\"Welcome!\")\n",
    "     employee = Employee()\n",
    "     \n",
    "     # This would print Welcome! since __init__ method was called on object instantiation."
   ]
  },
  {
   "cell_type": "code",
   "execution_count": 1,
   "metadata": {},
   "outputs": [],
   "source": [
    "class Employee:\n",
    "    numberOfWorkingHours = 40"
   ]
  },
  {
   "cell_type": "code",
   "execution_count": 2,
   "metadata": {},
   "outputs": [],
   "source": [
    "employeeOne = Employee()\n",
    "employeeTwo = Employee()"
   ]
  },
  {
   "cell_type": "code",
   "execution_count": 3,
   "metadata": {},
   "outputs": [
    {
     "data": {
      "text/plain": [
       "40"
      ]
     },
     "execution_count": 3,
     "metadata": {},
     "output_type": "execute_result"
    }
   ],
   "source": [
    "employeeOne.numberOfWorkingHours"
   ]
  },
  {
   "cell_type": "code",
   "execution_count": 4,
   "metadata": {},
   "outputs": [
    {
     "data": {
      "text/plain": [
       "40"
      ]
     },
     "execution_count": 4,
     "metadata": {},
     "output_type": "execute_result"
    }
   ],
   "source": [
    "employeeTwo.numberOfWorkingHours"
   ]
  },
  {
   "cell_type": "code",
   "execution_count": 5,
   "metadata": {},
   "outputs": [],
   "source": [
    "Employee.numberOfWorkingHours = 45"
   ]
  },
  {
   "cell_type": "code",
   "execution_count": 6,
   "metadata": {},
   "outputs": [
    {
     "data": {
      "text/plain": [
       "45"
      ]
     },
     "execution_count": 6,
     "metadata": {},
     "output_type": "execute_result"
    }
   ],
   "source": [
    "employeeOne.numberOfWorkingHours"
   ]
  },
  {
   "cell_type": "code",
   "execution_count": 7,
   "metadata": {},
   "outputs": [
    {
     "data": {
      "text/plain": [
       "45"
      ]
     },
     "execution_count": 7,
     "metadata": {},
     "output_type": "execute_result"
    }
   ],
   "source": [
    "employeeTwo.numberOfWorkingHours"
   ]
  },
  {
   "cell_type": "code",
   "execution_count": 8,
   "metadata": {},
   "outputs": [],
   "source": [
    "employeeOne.name = \"John\""
   ]
  },
  {
   "cell_type": "code",
   "execution_count": 9,
   "metadata": {},
   "outputs": [
    {
     "data": {
      "text/plain": [
       "'John'"
      ]
     },
     "execution_count": 9,
     "metadata": {},
     "output_type": "execute_result"
    }
   ],
   "source": [
    "employeeOne.name"
   ]
  },
  {
   "cell_type": "code",
   "execution_count": 10,
   "metadata": {},
   "outputs": [
    {
     "ename": "AttributeError",
     "evalue": "'Employee' object has no attribute 'name'",
     "output_type": "error",
     "traceback": [
      "\u001b[1;31m---------------------------------------------------------------------------\u001b[0m",
      "\u001b[1;31mAttributeError\u001b[0m                            Traceback (most recent call last)",
      "\u001b[1;32m<ipython-input-10-07457414184d>\u001b[0m in \u001b[0;36m<module>\u001b[1;34m()\u001b[0m\n\u001b[1;32m----> 1\u001b[1;33m \u001b[0memployeeTwo\u001b[0m\u001b[1;33m.\u001b[0m\u001b[0mname\u001b[0m\u001b[1;33m\u001b[0m\u001b[0m\n\u001b[0m",
      "\u001b[1;31mAttributeError\u001b[0m: 'Employee' object has no attribute 'name'"
     ]
    }
   ],
   "source": [
    "employeeTwo.name"
   ]
  },
  {
   "cell_type": "code",
   "execution_count": 11,
   "metadata": {},
   "outputs": [],
   "source": [
    "employeeOne.numberOfWorkingHours = 30"
   ]
  },
  {
   "cell_type": "code",
   "execution_count": 12,
   "metadata": {},
   "outputs": [
    {
     "data": {
      "text/plain": [
       "30"
      ]
     },
     "execution_count": 12,
     "metadata": {},
     "output_type": "execute_result"
    }
   ],
   "source": [
    "employeeOne.numberOfWorkingHours"
   ]
  },
  {
   "cell_type": "code",
   "execution_count": 13,
   "metadata": {},
   "outputs": [
    {
     "data": {
      "text/plain": [
       "45"
      ]
     },
     "execution_count": 13,
     "metadata": {},
     "output_type": "execute_result"
    }
   ],
   "source": [
    "employeeTwo.numberOfWorkingHours"
   ]
  },
  {
   "cell_type": "code",
   "execution_count": 14,
   "metadata": {},
   "outputs": [],
   "source": [
    "class Employee:\n",
    "    def employeeDetails():\n",
    "        pass"
   ]
  },
  {
   "cell_type": "code",
   "execution_count": 15,
   "metadata": {},
   "outputs": [],
   "source": [
    "employee = Employee()"
   ]
  },
  {
   "cell_type": "code",
   "execution_count": 16,
   "metadata": {},
   "outputs": [
    {
     "ename": "TypeError",
     "evalue": "employeeDetails() takes 0 positional arguments but 1 was given",
     "output_type": "error",
     "traceback": [
      "\u001b[1;31m---------------------------------------------------------------------------\u001b[0m",
      "\u001b[1;31mTypeError\u001b[0m                                 Traceback (most recent call last)",
      "\u001b[1;32m<ipython-input-16-239b253429a0>\u001b[0m in \u001b[0;36m<module>\u001b[1;34m()\u001b[0m\n\u001b[1;32m----> 1\u001b[1;33m \u001b[0memployee\u001b[0m\u001b[1;33m.\u001b[0m\u001b[0memployeeDetails\u001b[0m\u001b[1;33m(\u001b[0m\u001b[1;33m)\u001b[0m\u001b[1;33m\u001b[0m\u001b[0m\n\u001b[0m",
      "\u001b[1;31mTypeError\u001b[0m: employeeDetails() takes 0 positional arguments but 1 was given"
     ]
    }
   ],
   "source": [
    "employee.employeeDetails()"
   ]
  },
  {
   "cell_type": "markdown",
   "metadata": {},
   "source": [
    "As seen above, we are not passing any arguments there but it is being said that:\n",
    "\n",
    "employeeDetails() takes 0 positional arguments but 1 was given\n",
    "\n",
    "This is because the python interpreter, interprets the above line as follows:\n",
    "\n",
    "`Employee.employeeDetails(employee)`\n",
    "\n",
    "And hence we get that error."
   ]
  },
  {
   "cell_type": "code",
   "execution_count": 17,
   "metadata": {},
   "outputs": [],
   "source": [
    "class Employee:\n",
    "    def employeeDetails(self):\n",
    "        self.name = \"Matthew\"\n",
    "        print(\"Name: \",self.name)\n",
    "        age = 30\n",
    "        print(\"Age: \",age)\n",
    "    def printEmployeeDetails(self):\n",
    "        print(\"Printing in another method\")\n",
    "        print(\"Name: \",self.name)\n",
    "        print(\"Age: \",age)"
   ]
  },
  {
   "cell_type": "code",
   "execution_count": 18,
   "metadata": {},
   "outputs": [],
   "source": [
    "employee = Employee()"
   ]
  },
  {
   "cell_type": "code",
   "execution_count": 19,
   "metadata": {},
   "outputs": [
    {
     "name": "stdout",
     "output_type": "stream",
     "text": [
      "Name:  Matthew\n",
      "Age:  30\n"
     ]
    }
   ],
   "source": [
    "employee.employeeDetails()"
   ]
  },
  {
   "cell_type": "code",
   "execution_count": 20,
   "metadata": {},
   "outputs": [
    {
     "name": "stdout",
     "output_type": "stream",
     "text": [
      "Printing in another method\n",
      "Name:  Matthew\n"
     ]
    },
    {
     "ename": "NameError",
     "evalue": "name 'age' is not defined",
     "output_type": "error",
     "traceback": [
      "\u001b[1;31m---------------------------------------------------------------------------\u001b[0m",
      "\u001b[1;31mNameError\u001b[0m                                 Traceback (most recent call last)",
      "\u001b[1;32m<ipython-input-20-35155064865e>\u001b[0m in \u001b[0;36m<module>\u001b[1;34m()\u001b[0m\n\u001b[1;32m----> 1\u001b[1;33m \u001b[0memployee\u001b[0m\u001b[1;33m.\u001b[0m\u001b[0mprintEmployeeDetails\u001b[0m\u001b[1;33m(\u001b[0m\u001b[1;33m)\u001b[0m\u001b[1;33m\u001b[0m\u001b[0m\n\u001b[0m",
      "\u001b[1;32m<ipython-input-17-2ef3785e3849>\u001b[0m in \u001b[0;36mprintEmployeeDetails\u001b[1;34m(self)\u001b[0m\n\u001b[0;32m      8\u001b[0m         \u001b[0mprint\u001b[0m\u001b[1;33m(\u001b[0m\u001b[1;34m\"Printing in another method\"\u001b[0m\u001b[1;33m)\u001b[0m\u001b[1;33m\u001b[0m\u001b[0m\n\u001b[0;32m      9\u001b[0m         \u001b[0mprint\u001b[0m\u001b[1;33m(\u001b[0m\u001b[1;34m\"Name: \"\u001b[0m\u001b[1;33m,\u001b[0m\u001b[0mself\u001b[0m\u001b[1;33m.\u001b[0m\u001b[0mname\u001b[0m\u001b[1;33m)\u001b[0m\u001b[1;33m\u001b[0m\u001b[0m\n\u001b[1;32m---> 10\u001b[1;33m         \u001b[0mprint\u001b[0m\u001b[1;33m(\u001b[0m\u001b[1;34m\"Age: \"\u001b[0m\u001b[1;33m,\u001b[0m\u001b[0mage\u001b[0m\u001b[1;33m)\u001b[0m\u001b[1;33m\u001b[0m\u001b[0m\n\u001b[0m",
      "\u001b[1;31mNameError\u001b[0m: name 'age' is not defined"
     ]
    }
   ],
   "source": [
    "employee.printEmployeeDetails()"
   ]
  },
  {
   "cell_type": "code",
   "execution_count": 21,
   "metadata": {},
   "outputs": [],
   "source": [
    "class Employee:\n",
    "    def employeeDetails(self):\n",
    "        self.name = \"Ben\"\n",
    "        print(\"Name: \",self.name)\n",
    "    \n",
    "    @staticmethod\n",
    "    def welcomeMessage():\n",
    "        print(\"Welcome to our Organisation!\")"
   ]
  },
  {
   "cell_type": "code",
   "execution_count": 22,
   "metadata": {},
   "outputs": [],
   "source": [
    "employee = Employee()"
   ]
  },
  {
   "cell_type": "code",
   "execution_count": 23,
   "metadata": {},
   "outputs": [
    {
     "name": "stdout",
     "output_type": "stream",
     "text": [
      "Name:  Ben\n"
     ]
    }
   ],
   "source": [
    "employee.employeeDetails()"
   ]
  },
  {
   "cell_type": "code",
   "execution_count": 24,
   "metadata": {},
   "outputs": [
    {
     "name": "stdout",
     "output_type": "stream",
     "text": [
      "Welcome to our Organisation!\n"
     ]
    }
   ],
   "source": [
    "employee.welcomeMessage()"
   ]
  },
  {
   "cell_type": "code",
   "execution_count": 25,
   "metadata": {},
   "outputs": [],
   "source": [
    "class Employee:\n",
    "    def enterEmployeeDetails(self):\n",
    "        self.name = \"Mark\"\n",
    "    \n",
    "    def displayEmployeeDetails(self):\n",
    "        print(self.name)"
   ]
  },
  {
   "cell_type": "code",
   "execution_count": 26,
   "metadata": {},
   "outputs": [],
   "source": [
    "employee = Employee()"
   ]
  },
  {
   "cell_type": "code",
   "execution_count": 27,
   "metadata": {},
   "outputs": [
    {
     "ename": "AttributeError",
     "evalue": "'Employee' object has no attribute 'name'",
     "output_type": "error",
     "traceback": [
      "\u001b[1;31m---------------------------------------------------------------------------\u001b[0m",
      "\u001b[1;31mAttributeError\u001b[0m                            Traceback (most recent call last)",
      "\u001b[1;32m<ipython-input-27-ddccb53f90a2>\u001b[0m in \u001b[0;36m<module>\u001b[1;34m()\u001b[0m\n\u001b[1;32m----> 1\u001b[1;33m \u001b[0memployee\u001b[0m\u001b[1;33m.\u001b[0m\u001b[0mdisplayEmployeeDetails\u001b[0m\u001b[1;33m(\u001b[0m\u001b[1;33m)\u001b[0m\u001b[1;33m\u001b[0m\u001b[0m\n\u001b[0m",
      "\u001b[1;32m<ipython-input-25-84043c66254e>\u001b[0m in \u001b[0;36mdisplayEmployeeDetails\u001b[1;34m(self)\u001b[0m\n\u001b[0;32m      4\u001b[0m \u001b[1;33m\u001b[0m\u001b[0m\n\u001b[0;32m      5\u001b[0m     \u001b[1;32mdef\u001b[0m \u001b[0mdisplayEmployeeDetails\u001b[0m\u001b[1;33m(\u001b[0m\u001b[0mself\u001b[0m\u001b[1;33m)\u001b[0m\u001b[1;33m:\u001b[0m\u001b[1;33m\u001b[0m\u001b[0m\n\u001b[1;32m----> 6\u001b[1;33m         \u001b[0mprint\u001b[0m\u001b[1;33m(\u001b[0m\u001b[0mself\u001b[0m\u001b[1;33m.\u001b[0m\u001b[0mname\u001b[0m\u001b[1;33m)\u001b[0m\u001b[1;33m\u001b[0m\u001b[0m\n\u001b[0m",
      "\u001b[1;31mAttributeError\u001b[0m: 'Employee' object has no attribute 'name'"
     ]
    }
   ],
   "source": [
    "employee.displayEmployeeDetails()"
   ]
  },
  {
   "cell_type": "code",
   "execution_count": 28,
   "metadata": {},
   "outputs": [],
   "source": [
    "class Employee:\n",
    "    def __init__(self):\n",
    "        self.name = \"Mark\"\n",
    "    \n",
    "    def displayEmployeeDetails(self):\n",
    "        print(self.name)"
   ]
  },
  {
   "cell_type": "code",
   "execution_count": 29,
   "metadata": {},
   "outputs": [],
   "source": [
    "employee = Employee()"
   ]
  },
  {
   "cell_type": "code",
   "execution_count": 30,
   "metadata": {},
   "outputs": [
    {
     "name": "stdout",
     "output_type": "stream",
     "text": [
      "Mark\n"
     ]
    }
   ],
   "source": [
    "employee.displayEmployeeDetails()"
   ]
  },
  {
   "cell_type": "code",
   "execution_count": 31,
   "metadata": {},
   "outputs": [],
   "source": [
    "class Employee:\n",
    "    def __init__(self ,name):\n",
    "        self.name = name\n",
    "    \n",
    "    def displayEmployeeDetails(self):\n",
    "        print(self.name)"
   ]
  },
  {
   "cell_type": "code",
   "execution_count": 32,
   "metadata": {},
   "outputs": [],
   "source": [
    "empOne = Employee(\"Mark\")"
   ]
  },
  {
   "cell_type": "code",
   "execution_count": 33,
   "metadata": {},
   "outputs": [],
   "source": [
    "empTwo = Employee(\"Matthew\")"
   ]
  },
  {
   "cell_type": "code",
   "execution_count": 35,
   "metadata": {},
   "outputs": [
    {
     "name": "stdout",
     "output_type": "stream",
     "text": [
      "Mark\n"
     ]
    }
   ],
   "source": [
    "empOne.displayEmployeeDetails()"
   ]
  },
  {
   "cell_type": "code",
   "execution_count": 36,
   "metadata": {},
   "outputs": [
    {
     "name": "stdout",
     "output_type": "stream",
     "text": [
      "Matthew\n"
     ]
    }
   ],
   "source": [
    "empTwo.displayEmployeeDetails()"
   ]
  }
 ],
 "metadata": {
  "kernelspec": {
   "display_name": "Python 3",
   "language": "python",
   "name": "python3"
  },
  "language_info": {
   "codemirror_mode": {
    "name": "ipython",
    "version": 3
   },
   "file_extension": ".py",
   "mimetype": "text/x-python",
   "name": "python",
   "nbconvert_exporter": "python",
   "pygments_lexer": "ipython3",
   "version": "3.6.4"
  }
 },
 "nbformat": 4,
 "nbformat_minor": 2
}
